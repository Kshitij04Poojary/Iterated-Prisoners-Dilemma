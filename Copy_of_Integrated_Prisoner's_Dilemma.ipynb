{
  "nbformat": 4,
  "nbformat_minor": 0,
  "metadata": {
    "colab": {
      "provenance": [],
      "authorship_tag": "ABX9TyOuXJ7URENkyIfEkMziNjOk",
      "include_colab_link": true
    },
    "kernelspec": {
      "name": "python3",
      "display_name": "Python 3"
    },
    "language_info": {
      "name": "python"
    }
  },
  "cells": [
    {
      "cell_type": "markdown",
      "metadata": {
        "id": "view-in-github",
        "colab_type": "text"
      },
      "source": [
        "<a href=\"https://colab.research.google.com/github/Kshitij04Poojary/Iterated-Prisoners-Dilemma/blob/main/Copy_of_Integrated_Prisoner's_Dilemma.ipynb\" target=\"_parent\"><img src=\"https://colab.research.google.com/assets/colab-badge.svg\" alt=\"Open In Colab\"/></a>"
      ]
    },
    {
      "cell_type": "code",
      "execution_count": 1,
      "metadata": {
        "id": "oTAjNtcPX7TL"
      },
      "outputs": [],
      "source": [
        "import matplotlib.pyplot as plt\n",
        "from matplotlib.colors import ListedColormap\n",
        "from scipy.stats import pearsonr\n",
        "import pickle\n",
        "import numpy as np\n",
        "import pandas as pd\n",
        "import torch\n",
        "from torch import nn, optim\n",
        "from torch.autograd import Variable\n",
        "from torch.nn import init\n",
        "import seaborn as sns\n",
        "\n",
        "sns.set()\n",
        "\n",
        "from pandas.plotting import autocorrelation_plot\n",
        "from statsmodels.tsa.api import VAR\n",
        "from sklearn.metrics import mean_squared_error\n",
        "from sklearn.linear_model import LogisticRegression\n",
        "\n",
        "MSE = mean_squared_error\n",
        "lag = 1"
      ]
    },
    {
      "cell_type": "code",
      "source": [
        "import matplotlib as mpl\n",
        "mpl.rcParams.update(mpl.rcParamsDefault) #updates the default Matplotlib configuration settings to their default values"
      ],
      "metadata": {
        "id": "dTAdiWdyc_7X"
      },
      "execution_count": 2,
      "outputs": []
    },
    {
      "cell_type": "code",
      "source": [
        "SMALL_SIZE = 15\n",
        "MEDIUM_SIZE = 20\n",
        "BIGGER_SIZE = 30\n",
        "\n",
        "plt.rc(\"font\", size=SMALL_SIZE)  # controls default text sizes\n",
        "plt.rc(\"axes\", titlesize=SMALL_SIZE)  # fontsize of the axes title\n",
        "plt.rc(\"axes\", labelsize=MEDIUM_SIZE)  # fontsize of the x and y labels\n",
        "plt.rc(\"xtick\", labelsize=SMALL_SIZE)  # fontsize of the tick labels\n",
        "plt.rc(\"ytick\", labelsize=SMALL_SIZE)  # fontsize of the tick labels\n",
        "plt.rc(\"legend\", fontsize=SMALL_SIZE)  # legend fontsize\n",
        "plt.rc(\"figure\", titlesize=BIGGER_SIZE)  # fontsize of the figure title"
      ],
      "metadata": {
        "id": "Z5GEBgDBdsIR"
      },
      "execution_count": 3,
      "outputs": []
    },
    {
      "cell_type": "code",
      "source": [
        "from google.colab import drive\n",
        "drive.mount('/content/drive')"
      ],
      "metadata": {
        "colab": {
          "base_uri": "https://localhost:8080/"
        },
        "id": "M0L1kFCALv0E",
        "outputId": "babe14ac-0478-41ec-f325-a1dacfa81d17"
      },
      "execution_count": 4,
      "outputs": [
        {
          "output_type": "stream",
          "name": "stdout",
          "text": [
            "Mounted at /content/drive\n"
          ]
        }
      ]
    },
    {
      "cell_type": "code",
      "source": [
        "def ipd_regression_data(regressiondata):\n",
        "    x, y = [], []\n",
        "    for e in regressiondata:\n",
        "        for t in np.arange(8):\n",
        "            x.append(\n",
        "                [\n",
        "                    e[2],\n",
        "                    e[3],\n",
        "                    e[0],\n",
        "                    e[4],\n",
        "                    e[1],\n",
        "                    e[1] * e[2],\n",
        "                    e[1] * e[3],\n",
        "                    e[46],\n",
        "                    e[47],\n",
        "                    e[46] * e[1],\n",
        "                    e[14 - t],\n",
        "                    e[23 - t],\n",
        "                    e[4] * e[23 - t],\n",
        "                    t + 2,\n",
        "                ]\n",
        "            )\n",
        "            y.append(np.abs(e[13 - t]))\n",
        "    return np.array(x), np.array(y)"
      ],
      "metadata": {
        "id": "TVMr_UsTmVeK"
      },
      "execution_count": 5,
      "outputs": []
    },
    {
      "cell_type": "code",
      "source": [
        "def valid_ipd(n):\n",
        "    if n < 1:\n",
        "        n = int(8258 * n)\n",
        "    shuffindex = np.random.permutation(8258)#to shuffle integers from 0 to 8257 and returns them as an array\n",
        "    data = pd.read_csv(\"/content/drive/MyDrive/IPD/all_data.csv\")\n",
        "    trajs = np.array(data[data[\"period\"] == 10].iloc[:, 9:27])  # (8258, 18) takes where period = 10 as it is a 9 step IPD game\n",
        "    regressiondata = np.array(data[data[\"period\"] == 10].iloc[:, 3:51])  # (8258, 48)\n",
        "    regressiondata, trajs = regressiondata[shuffindex], trajs[shuffindex]\n",
        "    train_set_rgx, train_set_rgy = ipd_regression_data(regressiondata[n:])\n",
        "    test_set_rgx, test_set_rgy = ipd_regression_data(regressiondata[:n])\n",
        "    trajs = trajs.reshape((trajs.shape[0], 2, 9))  # (8258, 2, 9)\n",
        "    trajs[trajs == 0] = 2\n",
        "    trajs = trajs - 1\n",
        "    train_set, test_set = trajs[n:], trajs[:n]\n",
        "    return train_set, test_set, train_set_rgx, test_set_rgx, train_set_rgy, test_set_rgy\n"
      ],
      "metadata": {
        "id": "Wrw3Q6jJJ_OG"
      },
      "execution_count": 6,
      "outputs": []
    },
    {
      "cell_type": "code",
      "source": [
        "# cooperation rate\n",
        "def getCR(r):\n",
        "    if len(r.shape) == 3:\n",
        "        r = r[:, :, 0] #removes the third dimension\n",
        "    cr = np.zeros(r.shape)\n",
        "    for t in np.arange(r.shape[1]): #0 to r.shape[1]-1\n",
        "        for b in np.arange(r.shape[0]):\n",
        "            cr[b, t] = r[b, : t + 1].sum() / (t + 1)#It sums up the cooperation decisions made by the player up to the current time step (t) and divides by the total number of time steps so far (t + 1)\n",
        "    return cr"
      ],
      "metadata": {
        "id": "uxkIe51XUN_r"
      },
      "execution_count": 7,
      "outputs": []
    },
    {
      "cell_type": "code",
      "source": [
        "class lstmModel(nn.Module):\n",
        "    def __init__(self, in_dim, hidden_dim, out_dim, layer_num):\n",
        "        super().__init__()\n",
        "        self.lstmLayer = nn.LSTM(in_dim, hidden_dim, layer_num)\n",
        "        self.relu = nn.ReLU()\n",
        "        self.fcLayer = nn.Linear(hidden_dim, out_dim)\n",
        "        self.weightInit = np.sqrt(1.0 / hidden_dim)\n",
        "\n",
        "    def forward(self, x):\n",
        "        out, _ = self.lstmLayer(x)\n",
        "        out = self.relu(out)\n",
        "        out = self.fcLayer(out)\n",
        "        out = nn.Softmax(dim=-1)(out)\n",
        "        return out\n"
      ],
      "metadata": {
        "id": "X5b-pH3aZld5"
      },
      "execution_count": 8,
      "outputs": []
    }
  ]
}